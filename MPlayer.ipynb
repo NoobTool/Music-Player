{
 "cells": [
  {
   "cell_type": "code",
   "execution_count": 1,
   "metadata": {},
   "outputs": [],
   "source": [
    "import pandas as pd\n",
    "import numpy as np\n",
    "import time\n",
    "from sklearn.linear_model import LinearRegression\n",
    "from sklearn.model_selection import train_test_split\n",
    "lib=[]\n",
    "favs={}\n",
    "recs=[]\n",
    "rec=[]\n",
    "times=np.arange(1,21).reshape(-1,1)"
   ]
  },
  {
   "cell_type": "markdown",
   "metadata": {},
   "source": [
    "# Library"
   ]
  },
  {
   "cell_type": "code",
   "execution_count": 2,
   "metadata": {},
   "outputs": [],
   "source": [
    "def equatelib(a):\n",
    "    lib=a"
   ]
  },
  {
   "cell_type": "markdown",
   "metadata": {},
   "source": [
    "# -------------------------------------------------------------------------------------------------\n"
   ]
  },
  {
   "cell_type": "markdown",
   "metadata": {},
   "source": [
    "# Find Keys"
   ]
  },
  {
   "cell_type": "code",
   "execution_count": 3,
   "metadata": {},
   "outputs": [],
   "source": [
    "def findkey(el):\n",
    "    s=0\n",
    "    for x in lib:\n",
    "        if el==x:\n",
    "            return s\n",
    "        s+=1"
   ]
  },
  {
   "cell_type": "markdown",
   "metadata": {},
   "source": [
    "# Replacing Function"
   ]
  },
  {
   "cell_type": "code",
   "execution_count": 4,
   "metadata": {},
   "outputs": [],
   "source": [
    "def replib(a1,a2):\n",
    "    temp=lib[a1]\n",
    "    lib[a1]=lib[a2]\n",
    "    lib[a2]=temp\n",
    "    "
   ]
  },
  {
   "cell_type": "markdown",
   "metadata": {},
   "source": [
    "# SequentiaL "
   ]
  },
  {
   "cell_type": "code",
   "execution_count": 5,
   "metadata": {},
   "outputs": [],
   "source": [
    "def seq():\n",
    "    lib.clear()\n",
    "    \n",
    "    for x in range(1,100):\n",
    "        lib.append('Song %d' %(x)) \n",
    "    \n"
   ]
  },
  {
   "cell_type": "markdown",
   "metadata": {},
   "source": [
    "# ShuffleR"
   ]
  },
  {
   "cell_type": "code",
   "execution_count": 6,
   "metadata": {},
   "outputs": [],
   "source": [
    "def shuffler():\n",
    "    seq()\n",
    "    a=np.array(lib)\n",
    "    equatelib(a)\n",
    "    np.random.shuffle(lib)"
   ]
  },
  {
   "cell_type": "markdown",
   "metadata": {},
   "source": [
    "# MAIN"
   ]
  },
  {
   "cell_type": "code",
   "execution_count": 7,
   "metadata": {},
   "outputs": [],
   "source": [
    "def main():\n",
    "    ch=input('Shuffled (sf) or Sequential (sq)')\n",
    "    time.sleep(1)\n",
    "    print('')\n",
    "    print('Behold LiBRaRY',end='\\n***********************************\\n')\n",
    "    time.sleep(1)\n",
    "\n",
    "    if ch == 'sf':\n",
    "        shuffler()\n",
    "        sort_favs()\n",
    "        specPlace()\n",
    "        return lib\n",
    "    \n",
    "    elif ch =='sq':\n",
    "        seq()\n",
    "        return lib\n",
    "    \n",
    "    \n",
    "    else: \n",
    "        print('Read Properly and Stay Focused')    \n"
   ]
  },
  {
   "cell_type": "markdown",
   "metadata": {},
   "source": [
    "# MPlay"
   ]
  },
  {
   "cell_type": "code",
   "execution_count": 8,
   "metadata": {},
   "outputs": [],
   "source": [
    "def mplay():\n",
    "    for x in lib:\n",
    "        print(x)        "
   ]
  },
  {
   "cell_type": "markdown",
   "metadata": {},
   "source": [
    "# Player"
   ]
  },
  {
   "cell_type": "code",
   "execution_count": 9,
   "metadata": {},
   "outputs": [],
   "source": [
    "def play(c):\n",
    "    if c == 'sf':\n",
    "        shuffler()\n",
    "    else:\n",
    "        seq()\n",
    "    \n",
    "    mplay()    "
   ]
  },
  {
   "cell_type": "markdown",
   "metadata": {},
   "source": [
    "# Playing Specific"
   ]
  },
  {
   "cell_type": "code",
   "execution_count": 10,
   "metadata": {},
   "outputs": [],
   "source": [
    "def playspec(specmusic):\n",
    "    specmusic=int(specmusic)\n",
    "    storeFavs(specmusic)\n",
    "    storeRecs(specmusic)\n",
    "            "
   ]
  },
  {
   "cell_type": "markdown",
   "metadata": {},
   "source": [
    "# Storing Custom Plays"
   ]
  },
  {
   "cell_type": "code",
   "execution_count": 11,
   "metadata": {},
   "outputs": [],
   "source": [
    "def storeFavs(specmusic):\n",
    "    favs['Song %d'%(specmusic)]=favs.get('Song %d'%(specmusic),0)+1"
   ]
  },
  {
   "cell_type": "code",
   "execution_count": 12,
   "metadata": {},
   "outputs": [],
   "source": [
    "def sort_favs():\n",
    "    global favs\n",
    "    temp1={}\n",
    "    dic=favs\n",
    "    mostplayed=[]\n",
    "    s=0\n",
    "    largest=0\n",
    "    large=0\n",
    "    for a in range(0,len(dic)):\n",
    "        for x in favs:\n",
    "            if(s==0):\n",
    "                largest=favs[x]\n",
    "                large=x\n",
    "            if(len(favs)==1):\n",
    "                large=x\n",
    "                break;\n",
    "            if largest<favs[x]:\n",
    "                largest=favs[x]\n",
    "                large=x\n",
    "            s+=1\n",
    "        s=0    \n",
    "        temp1[large]=largest\n",
    "        favs.pop(large)\n",
    "        \n",
    "    favs = temp1\n"
   ]
  },
  {
   "cell_type": "markdown",
   "metadata": {},
   "source": [
    "# Spec Replace"
   ]
  },
  {
   "cell_type": "code",
   "execution_count": 13,
   "metadata": {},
   "outputs": [],
   "source": [
    "def specPlace():\n",
    "    keys=list(favs.keys())\n",
    "    for x in range(0,len(favs)):\n",
    "        a=findkey(keys[x])\n",
    "        replib(a,x)\n",
    "           "
   ]
  },
  {
   "cell_type": "markdown",
   "metadata": {},
   "source": [
    "# MACHINE LEARNING"
   ]
  },
  {
   "cell_type": "markdown",
   "metadata": {},
   "source": [
    "# Storing Recommendations"
   ]
  },
  {
   "cell_type": "code",
   "execution_count": 14,
   "metadata": {},
   "outputs": [],
   "source": [
    "def storeRecs(specmusic):\n",
    "    recs.append(specmusic)"
   ]
  },
  {
   "cell_type": "code",
   "execution_count": 15,
   "metadata": {},
   "outputs": [],
   "source": [
    "def learn(time_list):\n",
    "    time_slots=np.arange(1,len(recs)+1).reshape(-1,1)\n",
    "    rec=np.array(recs).reshape(-1,1)\n",
    "    time_train,time_test,plays_train,plays_test=train_test_split(time_slots,rec,test_size=0.2,random_state=0)\n",
    "    regressor=LinearRegression()\n",
    "    regressor.fit(time_train,plays_train)\n",
    "    pred=regressor.predict(time_list)\n",
    "    for x in range(0,len(pred)):\n",
    "        pred[x]=int(pred[x])\n",
    "        print('Song %d'%(pred[x]))\n",
    "\n",
    "    \n",
    "    \n",
    "    \n",
    "    "
   ]
  },
  {
   "cell_type": "code",
   "execution_count": 16,
   "metadata": {},
   "outputs": [],
   "source": [
    "def tslot():\n",
    "    t=np.arange(2,6).reshape(-1,1)\n",
    "    return t"
   ]
  },
  {
   "cell_type": "markdown",
   "metadata": {},
   "source": [
    "# MENU"
   ]
  },
  {
   "cell_type": "code",
   "execution_count": 17,
   "metadata": {},
   "outputs": [
    {
     "name": "stdout",
     "output_type": "stream",
     "text": [
      "Welcome to the World of MuSiC\n",
      "***********************************\n",
      "\n",
      "Enjoy Music:-Shuffled (sf) or Sequential (sq)sf\n",
      "\n",
      "Behold LiBRaRY\n",
      "***********************************\n",
      "['Song 93', 'Song 27', 'Song 95', 'Song 21', 'Song 62', 'Song 30', 'Song 33', 'Song 20', 'Song 94', 'Song 67', 'Song 78', 'Song 98', 'Song 89', 'Song 17', 'Song 15', 'Song 92', 'Song 31', 'Song 80', 'Song 59', 'Song 19', 'Song 55', 'Song 81', 'Song 8', 'Song 85', 'Song 99', 'Song 22', 'Song 23', 'Song 10', 'Song 14', 'Song 96', 'Song 6', 'Song 46', 'Song 18', 'Song 28', 'Song 64', 'Song 24', 'Song 52', 'Song 90', 'Song 50', 'Song 91', 'Song 97', 'Song 41', 'Song 43', 'Song 4', 'Song 37', 'Song 53', 'Song 73', 'Song 11', 'Song 61', 'Song 69', 'Song 79', 'Song 26', 'Song 63', 'Song 87', 'Song 76', 'Song 51', 'Song 60', 'Song 58', 'Song 70', 'Song 72', 'Song 25', 'Song 29', 'Song 68', 'Song 35', 'Song 34', 'Song 36', 'Song 42', 'Song 54', 'Song 75', 'Song 49', 'Song 47', 'Song 12', 'Song 56', 'Song 1', 'Song 9', 'Song 84', 'Song 65', 'Song 77', 'Song 40', 'Song 2', 'Song 86', 'Song 7', 'Song 66', 'Song 57', 'Song 16', 'Song 45', 'Song 83', 'Song 3', 'Song 71', 'Song 32', 'Song 48', 'Song 38', 'Song 5', 'Song 82', 'Song 13', 'Song 88', 'Song 74', 'Song 44', 'Song 39']\n",
      "Type a number for specifics and n to continue5\n",
      "Type a number for specifics and n to continue5\n",
      "Type a number for specifics and n to continue5\n",
      "Type a number for specifics and n to continue5\n",
      "Type a number for specifics and n to continue5\n",
      "Type a number for specifics and n to continue7\n",
      "Type a number for specifics and n to continue7\n",
      "Type a number for specifics and n to continue9\n",
      "Type a number for specifics and n to continue9\n",
      "Type a number for specifics and n to continue9\n",
      "Type a number for specifics and n to continue9\n",
      "Type a number for specifics and n to continuen\n",
      "\n",
      "***********************************\n",
      "\n",
      "Want your favourites (y/n)? y\n",
      "\n",
      "***********************************\n",
      "\n",
      "Wishes Do Come TruE:-\n",
      "\n",
      "['Song 5', 'Song 9', 'Song 7', 'Song 21', 'Song 62', 'Song 30', 'Song 33', 'Song 20', 'Song 94', 'Song 67', 'Song 78', 'Song 98', 'Song 89', 'Song 17', 'Song 15', 'Song 92', 'Song 31', 'Song 80', 'Song 59', 'Song 19', 'Song 55', 'Song 81', 'Song 8', 'Song 85', 'Song 99', 'Song 22', 'Song 23', 'Song 10', 'Song 14', 'Song 96', 'Song 6', 'Song 46', 'Song 18', 'Song 28', 'Song 64', 'Song 24', 'Song 52', 'Song 90', 'Song 50', 'Song 91', 'Song 97', 'Song 41', 'Song 43', 'Song 4', 'Song 37', 'Song 53', 'Song 73', 'Song 11', 'Song 61', 'Song 69', 'Song 79', 'Song 26', 'Song 63', 'Song 87', 'Song 76', 'Song 51', 'Song 60', 'Song 58', 'Song 70', 'Song 72', 'Song 25', 'Song 29', 'Song 68', 'Song 35', 'Song 34', 'Song 36', 'Song 42', 'Song 54', 'Song 75', 'Song 49', 'Song 47', 'Song 12', 'Song 56', 'Song 1', 'Song 27', 'Song 84', 'Song 65', 'Song 77', 'Song 40', 'Song 2', 'Song 86', 'Song 95', 'Song 66', 'Song 57', 'Song 16', 'Song 45', 'Song 83', 'Song 3', 'Song 71', 'Song 32', 'Song 48', 'Song 38', 'Song 93', 'Song 82', 'Song 13', 'Song 88', 'Song 74', 'Song 44', 'Song 39']\n",
      "\n",
      "***********************************\n",
      "\n",
      "\n",
      "Your recommended playback queue :-\n",
      "Song 5\n",
      "Song 5\n",
      "Song 6\n",
      "Song 6\n"
     ]
    }
   ],
   "source": [
    "print('Welcome to the World of MuSiC',end='\\n***********************************\\n')\n",
    "time.sleep(1)\n",
    "print('')\n",
    "print('Enjoy Music:-',end='')\n",
    "print(main())\n",
    "\n",
    "n='1'\n",
    "while(n.isdigit()):\n",
    "    n=input('Type a number for specifics and n to continue')\n",
    "    if n.isdigit():\n",
    "        playspec(n)      \n",
    "\n",
    "time.sleep(1)\n",
    "print('\\n***********************************\\n')\n",
    "c=input('Want your favourites (y/n)? ')\n",
    "if c =='y':\n",
    "    sort_favs()\n",
    "    specPlace()\n",
    "    print('\\n***********************************\\n')\n",
    "    print('Wishes Do Come TruE:-',end='\\n\\n')\n",
    "    time.sleep(1)\n",
    "    print(lib)\n",
    "print('\\n***********************************\\n')\n",
    "time.sleep(1)\n",
    "print('')\n",
    "print('Your recommended playback queue :-')\n",
    "time.sleep(1)\n",
    "learn(tslot())"
   ]
  },
  {
   "cell_type": "code",
   "execution_count": null,
   "metadata": {},
   "outputs": [],
   "source": []
  },
  {
   "cell_type": "code",
   "execution_count": null,
   "metadata": {},
   "outputs": [],
   "source": []
  },
  {
   "cell_type": "code",
   "execution_count": null,
   "metadata": {},
   "outputs": [],
   "source": []
  }
 ],
 "metadata": {
  "kernelspec": {
   "display_name": "Python 3",
   "language": "python",
   "name": "python3"
  },
  "language_info": {
   "codemirror_mode": {
    "name": "ipython",
    "version": 3
   },
   "file_extension": ".py",
   "mimetype": "text/x-python",
   "name": "python",
   "nbconvert_exporter": "python",
   "pygments_lexer": "ipython3",
   "version": "3.6.5"
  }
 },
 "nbformat": 4,
 "nbformat_minor": 2
}
